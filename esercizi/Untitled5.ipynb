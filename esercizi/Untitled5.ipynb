{
 "cells": [
  {
   "cell_type": "code",
   "execution_count": 1,
   "metadata": {},
   "outputs": [],
   "source": [
    "import random"
   ]
  },
  {
   "cell_type": "code",
   "execution_count": 18,
   "metadata": {},
   "outputs": [
    {
     "data": {
      "text/plain": [
       "'giornale'"
      ]
     },
     "execution_count": 18,
     "metadata": {},
     "output_type": "execute_result"
    }
   ],
   "source": [
    "def parola_a_caso(n):\n",
    "    f=open('/Users/giorgio/Downloads/paroleitaliane/1000_parole_italiane_comuni.txt')\n",
    "    return f.readlines()[n].strip('\\n')\n",
    "n=random.randint(0,1000)\n",
    "parola_a_caso(n)"
   ]
  },
  {
   "cell_type": "code",
   "execution_count": 24,
   "metadata": {},
   "outputs": [
    {
     "data": {
      "text/plain": [
       "'sembrare lanciare arrivare interno interesse film conseguenza'"
      ]
     },
     "execution_count": 24,
     "metadata": {},
     "output_type": "execute_result"
    }
   ],
   "source": [
    "def frase_a_caso(n):\n",
    "    stringa=''\n",
    "    for i in range(n):\n",
    "        m=random.randint(0,1000)\n",
    "        stringa+=parola_a_caso(m)+' '\n",
    "    return stringa.rstrip()\n",
    "frase_a_caso(7)"
   ]
  },
  {
   "cell_type": "code",
   "execution_count": 25,
   "metadata": {},
   "outputs": [
    {
     "name": "stdout",
     "output_type": "stream",
     "text": [
      "civiltà insegnare signore onore principe sereno atteggiamento\n",
      "occasione caratteristico largo padrone coloro azzurro scoppiare\n",
      "bello generale mandare quello dolore provincia frase\n",
      "frase davanti legare letto favore altro cuore\n",
      "governo mondo giungere difficoltà peso disposizione infatti\n",
      "parola coloro differenza dunque abbandonare dietro linea\n",
      "processo contro mercato descrivere noi grave cucina\n",
      "lo prezzo realtà estate riunire sole smettere\n",
      "questione differenza occasione bambino nave grave macchina\n",
      "solito continuare papà lui luce perfino sociale\n",
      "lavorare bagno scomparire disposizione prezzo nobile ferire\n",
      "inglese braccio questo militare ombra brutto fermare\n",
      "affrontare frutto fronte formare sole distruggere rendere\n",
      "confronto lasciare assumere ah giorno partito indietro\n",
      "preoccupare gruppo paese difficoltà dunque personale affermare\n",
      "collo compagnia origine musica fiducia interessante buio\n",
      "compiere questione problema interessare indicare fondare atto\n",
      "personale riferire momento sangue liberare necessario occorrere\n",
      "caffè perfino comune base colpo come insegnare\n",
      "ferire colpo come imporre amico più chiaro\n"
     ]
    }
   ],
   "source": [
    "for i in range(20):\n",
    "    print(frase_a_caso(7))"
   ]
  },
  {
   "cell_type": "code",
   "execution_count": null,
   "metadata": {},
   "outputs": [],
   "source": []
  }
 ],
 "metadata": {
  "kernelspec": {
   "display_name": "Python 3",
   "language": "python",
   "name": "python3"
  },
  "language_info": {
   "codemirror_mode": {
    "name": "ipython",
    "version": 3
   },
   "file_extension": ".py",
   "mimetype": "text/x-python",
   "name": "python",
   "nbconvert_exporter": "python",
   "pygments_lexer": "ipython3",
   "version": "3.7.1"
  }
 },
 "nbformat": 4,
 "nbformat_minor": 2
}
