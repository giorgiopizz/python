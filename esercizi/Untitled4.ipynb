{
 "cells": [
  {
   "cell_type": "code",
   "execution_count": 2,
   "metadata": {},
   "outputs": [],
   "source": [
    "import re"
   ]
  },
  {
   "cell_type": "code",
   "execution_count": 68,
   "metadata": {},
   "outputs": [
    {
     "data": {
      "text/plain": [
       "True"
      ]
     },
     "execution_count": 68,
     "metadata": {},
     "output_type": "execute_result"
    }
   ],
   "source": [
    "P='100000'\n",
    "bool(re.match('[100000-999999]', P))\n",
    "#re.findall(r'(\\d)(?=(\\d)\\1)', P)"
   ]
  },
  {
   "cell_type": "code",
   "execution_count": 46,
   "metadata": {},
   "outputs": [
    {
     "data": {
      "text/plain": [
       "'n=int(input())\\ntext=[]\\nfor i in range(n):\\n    text.append(input())\\nfor line in text:\\n    check(line)'"
      ]
     },
     "execution_count": 46,
     "metadata": {},
     "output_type": "execute_result"
    }
   ],
   "source": [
    "texto='''//simple.wikipedia.org/wiki/,Simple English\n",
    "//ar.wikipedia.org/wiki/,\n",
    "//id.wikipedia.org/wiki/,Bahasa Indonesia\n",
    "//ms.wikipedia.org/wiki/,Bahasa Melayu\n",
    "//bg.wikipedia.org/wiki/,\n",
    "//ca.wikipedia.org/wiki/,Catal\n",
    "//cs.wikipedia.org/wiki/,esky\n",
    "//da.wikipedia.org/wiki/,Dansk\n",
    "//de.wikipedia.org/wiki/,Deutsch\n",
    "//et.wikipedia.org/wiki/,Eesti\n",
    "//el.wikipedia.org/wiki/,\n",
    "//es.wikipedia.org/wiki/,Espaol\n",
    "//eo.wikipedia.org/wiki/,Esperanto\n",
    "//eu.wikipedia.org/wiki/,Euskara\n",
    "//fa.wikipedia.org/wiki/,\n",
    "//fr.wikipedia.org/wiki/,Franais\n",
    "//gl.wikipedia.org/wiki/,Galego\n",
    "//ko.wikipedia.org/wiki/,\n",
    "//he.wikipedia.org/wiki/,\n",
    "//hr.wikipedia.org/wiki/,Hrvatski\n",
    "//it.wikipedia.org/wiki/,Italiano\n",
    "//lt.wikipedia.org/wiki/,Lietuvi\n",
    "//hu.wikipedia.org/wiki/,Magyar\n",
    "//nl.wikipedia.org/wiki/,Nederlands\n",
    "//ja.wikipedia.org/wiki/,\n",
    "//no.wikipedia.org/wiki/,Norsk bokml\n",
    "//nn.wikipedia.org/wiki/,Norsk nynorsk\n",
    "//pl.wikipedia.org/wiki/,Polski\n",
    "//pt.wikipedia.org/wiki/,Portugus\n",
    "//ro.wikipedia.org/wiki/,Romn\n",
    "//ru.wikipedia.org/wiki/,\n",
    "//sk.wikipedia.org/wiki/,Slovenina\n",
    "//sl.wikipedia.org/wiki/,Slovenina\n",
    "//sr.wikipedia.org/wiki/,/ srpski\n",
    "//sh.wikipedia.org/wiki/,Srpskohrvatski /\n",
    "//fi.wikipedia.org/wiki/,Suomi\n",
    "//sv.wikipedia.org/wiki/,Svenska\n",
    "//th.wikipedia.org/wiki/,\n",
    "//vi.wikipedia.org/wiki/,Ting Vit\n",
    "//tr.wikipedia.org/wiki/,Trke\n",
    "//uk.wikipedia.org/wiki/,\n",
    "//zh.wikipedia.org/wiki/,'''\n",
    "b=texto.splitlines()\n",
    "j=0\n",
    "string=[]\n",
    "def check(line):\n",
    "    a=re.findall(r'<a href=\\\"([^\\\"<>]+)\\\"[^>]*>(<[^<>]*>)*([^<>]*)(</[^<>]*>)*</a>',line)\n",
    "    global j\n",
    "    for i in a:\n",
    "        stringa=i[0]+','+str(i[2])\n",
    "        if(stringa==b[j]):\n",
    "            print(stringa)\n",
    "        else:\n",
    "            print('Insuccesso',str(j))\n",
    "            print('La mia stringa sarebbe=',stringa,'la sua=',b[j])\n",
    "            string.append(stringa)\n",
    "        j+=1\n",
    "\"\"\"n=int(input())\n",
    "text=[]\n",
    "for i in range(n):\n",
    "    text.append(input())\n",
    "for line in text:\n",
    "    check(line)\"\"\""
   ]
  },
  {
   "cell_type": "code",
   "execution_count": 47,
   "metadata": {},
   "outputs": [
    {
     "name": "stdout",
     "output_type": "stream",
     "text": [
      "//simple.wikipedia.org/wiki/,Simple English\n",
      "//ar.wikipedia.org/wiki/,\n",
      "//id.wikipedia.org/wiki/,Bahasa Indonesia\n",
      "//ms.wikipedia.org/wiki/,Bahasa Melayu\n",
      "//bg.wikipedia.org/wiki/,\n",
      "//ca.wikipedia.org/wiki/,Catal\n",
      "//cs.wikipedia.org/wiki/,esky\n",
      "//da.wikipedia.org/wiki/,Dansk\n",
      "//de.wikipedia.org/wiki/,Deutsch\n",
      "//et.wikipedia.org/wiki/,Eesti\n",
      "//el.wikipedia.org/wiki/,\n",
      "//es.wikipedia.org/wiki/,Espaol\n",
      "//eo.wikipedia.org/wiki/,Esperanto\n",
      "//eu.wikipedia.org/wiki/,Euskara\n",
      "//fa.wikipedia.org/wiki/,\n",
      "//fr.wikipedia.org/wiki/,Franais\n",
      "//gl.wikipedia.org/wiki/,Galego\n",
      "//ko.wikipedia.org/wiki/,\n",
      "//he.wikipedia.org/wiki/,\n",
      "//hr.wikipedia.org/wiki/,Hrvatski\n",
      "//it.wikipedia.org/wiki/,Italiano\n",
      "//lt.wikipedia.org/wiki/,Lietuvi\n",
      "//hu.wikipedia.org/wiki/,Magyar\n",
      "//nl.wikipedia.org/wiki/,Nederlands\n",
      "//ja.wikipedia.org/wiki/,\n",
      "//no.wikipedia.org/wiki/,Norsk bokml\n",
      "//nn.wikipedia.org/wiki/,Norsk nynorsk\n",
      "//pl.wikipedia.org/wiki/,Polski\n",
      "//pt.wikipedia.org/wiki/,Portugus\n",
      "//ro.wikipedia.org/wiki/,Romn\n",
      "//ru.wikipedia.org/wiki/,\n",
      "//sk.wikipedia.org/wiki/,Slovenina\n",
      "//sl.wikipedia.org/wiki/,Slovenina\n",
      "Insuccesso 33\n",
      "La mia stringa sarebbe= //sr.wikipedia.org/wiki/, / srpski la sua= //sr.wikipedia.org/wiki/,/ srpski\n",
      "Insuccesso 34\n",
      "La mia stringa sarebbe= //sh.wikipedia.org/wiki/,Srpskohrvatski /  la sua= //sh.wikipedia.org/wiki/,Srpskohrvatski /\n",
      "//fi.wikipedia.org/wiki/,Suomi\n",
      "//sv.wikipedia.org/wiki/,Svenska\n",
      "//th.wikipedia.org/wiki/,\n",
      "//vi.wikipedia.org/wiki/,Ting Vit\n",
      "//tr.wikipedia.org/wiki/,Trke\n",
      "//uk.wikipedia.org/wiki/,\n",
      "//zh.wikipedia.org/wiki/,\n"
     ]
    }
   ],
   "source": [
    "testo='''49\n",
    "<div class=\"portal\" role=\"navigation\" id='p-lang'>\n",
    "<h3>Languages</h3>\n",
    "<div class=\"body\">\n",
    "<ul>\n",
    "<li class=\"interwiki-simple\"><a href=\"//simple.wikipedia.org/wiki/\" title=\"\" lang=\"simple\" hreflang=\"simple\">Simple English</a></li>\n",
    "<li class=\"interwiki-ar\"><a href=\"//ar.wikipedia.org/wiki/\" title=\"\" lang=\"ar\" hreflang=\"ar\"></a></li>\n",
    "<li class=\"interwiki-id\"><a href=\"//id.wikipedia.org/wiki/\" title=\"\" lang=\"id\" hreflang=\"id\">Bahasa Indonesia</a></li>\n",
    "<li class=\"interwiki-ms\"><a href=\"//ms.wikipedia.org/wiki/\" title=\"\" lang=\"ms\" hreflang=\"ms\">Bahasa Melayu</a></li>\n",
    "<li class=\"interwiki-bg\"><a href=\"//bg.wikipedia.org/wiki/\" title=\"\" lang=\"bg\" hreflang=\"bg\"></a></li>\n",
    "<li class=\"interwiki-ca\"><a href=\"//ca.wikipedia.org/wiki/\" title=\"\" lang=\"ca\" hreflang=\"ca\">Catal</a></li>\n",
    "<li class=\"interwiki-cs\"><a href=\"//cs.wikipedia.org/wiki/\" title=\"\" lang=\"cs\" hreflang=\"cs\">esky</a></li>\n",
    "<li class=\"interwiki-da\"><a href=\"//da.wikipedia.org/wiki/\" title=\"\" lang=\"da\" hreflang=\"da\"><b>Dansk</b></a></li>\n",
    "<li class=\"interwiki-de\"><a href=\"//de.wikipedia.org/wiki/\" title=\"\" lang=\"de\" hreflang=\"de\">Deutsch</a></li>\n",
    "<li class=\"interwiki-et\"><a href=\"//et.wikipedia.org/wiki/\" title=\"\" lang=\"et\" hreflang=\"et\">Eesti</a></li>\n",
    "<li class=\"interwiki-el\"><a href=\"//el.wikipedia.org/wiki/\" title=\"\" lang=\"el\" hreflang=\"el\"></a></li>\n",
    "<li class=\"interwiki-es\"><a href=\"//es.wikipedia.org/wiki/\" title=\"\" lang=\"es\" hreflang=\"es\">Espaol</a></li>\n",
    "<li class=\"interwiki-eo\"><a href=\"//eo.wikipedia.org/wiki/\" title=\"\" lang=\"eo\" hreflang=\"eo\">Esperanto</a></li>\n",
    "<li class=\"interwiki-eu\"><a href=\"//eu.wikipedia.org/wiki/\" title=\"\" lang=\"eu\" hreflang=\"eu\">Euskara</a></li>\n",
    "<li class=\"interwiki-fa\"><a href=\"//fa.wikipedia.org/wiki/\" title=\"\" lang=\"fa\" hreflang=\"fa\"></a></li>\n",
    "<li class=\"interwiki-fr\"><a href=\"//fr.wikipedia.org/wiki/\" title=\"\" lang=\"fr\" hreflang=\"fr\">Franais</a></li>\n",
    "<li class=\"interwiki-gl\"><a href=\"//gl.wikipedia.org/wiki/\" title=\"\" lang=\"gl\" hreflang=\"gl\">Galego</a></li>\n",
    "<li class=\"interwiki-ko\"><a href=\"//ko.wikipedia.org/wiki/\" title=\"\" lang=\"ko\" hreflang=\"ko\"></a></li>\n",
    "<li class=\"interwiki-he\"><a href=\"//he.wikipedia.org/wiki/\" title=\"\" lang=\"he\" hreflang=\"he\"></a></li>\n",
    "<li class=\"interwiki-hr\"><a href=\"//hr.wikipedia.org/wiki/\" title=\"\" lang=\"hr\" hreflang=\"hr\">Hrvatski</a></li>\n",
    "<li class=\"interwiki-it\"><a href=\"//it.wikipedia.org/wiki/\" title=\"\" lang=\"it\" hreflang=\"it\">Italiano</a></li>\n",
    "<li class=\"interwiki-lt\"><a href=\"//lt.wikipedia.org/wiki/\" title=\"\" lang=\"lt\" hreflang=\"lt\">Lietuvi</a></li>\n",
    "<li class=\"interwiki-hu\"><a href=\"//hu.wikipedia.org/wiki/\" title=\"\" lang=\"hu\" hreflang=\"hu\">Magyar</a></li>\n",
    "<li class=\"interwiki-nl\"><a href=\"//nl.wikipedia.org/wiki/\" title=\"\" lang=\"nl\" hreflang=\"nl\">Nederlands</a></li>\n",
    "<li class=\"interwiki-ja\"><a href=\"//ja.wikipedia.org/wiki/\" title=\"\" lang=\"ja\" hreflang=\"ja\"></a></li>\n",
    "<li class=\"interwiki-no\"><a href=\"//no.wikipedia.org/wiki/\" title=\"\" lang=\"no\" hreflang=\"no\">Norsk bokml</a></li>\n",
    "<li class=\"interwiki-nn\"><a href=\"//nn.wikipedia.org/wiki/\" title=\"\" lang=\"nn\" hreflang=\"nn\">Norsk nynorsk</a></li>\n",
    "<li class=\"interwiki-pl\"><a href=\"//pl.wikipedia.org/wiki/\" title=\"\" lang=\"pl\" hreflang=\"pl\">Polski</a></li>\n",
    "<li class=\"interwiki-pt\"><a href=\"//pt.wikipedia.org/wiki/\" title=\"\" lang=\"pt\" hreflang=\"pt\">Portugus</a></li>\n",
    "<li class=\"interwiki-ro\"><a href=\"//ro.wikipedia.org/wiki/\" title=\"\" lang=\"ro\" hreflang=\"ro\">Romn</a></li>\n",
    "<li class=\"interwiki-ru\"><a href=\"//ru.wikipedia.org/wiki/\" title=\"\" lang=\"ru\" hreflang=\"ru\"></a></li>\n",
    "<li class=\"interwiki-sk\"><a href=\"//sk.wikipedia.org/wiki/\" title=\"\" lang=\"sk\" hreflang=\"sk\">Slovenina</a></li>\n",
    "<li class=\"interwiki-sl\"><a href=\"//sl.wikipedia.org/wiki/\" title=\"\" lang=\"sl\" hreflang=\"sl\">Slovenina</a></li>\n",
    "<li class=\"interwiki-sr\"><a href=\"//sr.wikipedia.org/wiki/\" title=\"\" lang=\"sr\" hreflang=\"sr\"> / srpski</a></li>\n",
    "<li class=\"interwiki-sh\"><a href=\"//sh.wikipedia.org/wiki/\" title=\"\" lang=\"sh\" hreflang=\"sh\">Srpskohrvatski / </a></li>\n",
    "<li class=\"interwiki-fi\"><a href=\"//fi.wikipedia.org/wiki/\" title=\"\" lang=\"fi\" hreflang=\"fi\">Suomi</a></li>\n",
    "<li class=\"interwiki-sv\"><a href=\"//sv.wikipedia.org/wiki/\" title=\"\" lang=\"sv\" hreflang=\"sv\">Svenska</a></li>\n",
    "<li class=\"interwiki-th\"><a href=\"//th.wikipedia.org/wiki/\" title=\"\" lang=\"th\" hreflang=\"th\"></a></li>\n",
    "<li class=\"interwiki-vi\"><a href=\"//vi.wikipedia.org/wiki/\" title=\"\" lang=\"vi\" hreflang=\"vi\">Ting Vit</a></li>\n",
    "<li class=\"interwiki-tr\"><a href=\"//tr.wikipedia.org/wiki/\" title=\"\" lang=\"tr\" hreflang=\"tr\">Trke</a></li>\n",
    "<li class=\"interwiki-uk\"><a href=\"//uk.wikipedia.org/wiki/\" title=\"\" lang=\"uk\" hreflang=\"uk\"></a></li>\n",
    "<li class=\"interwiki-zh\"><a href=\"//zh.wikipedia.org/wiki/\" title=\"\" lang=\"zh\" hreflang=\"zh\"></a></li>\n",
    "</ul>\n",
    "</div>\n",
    "</div>'''\n",
    "testo.splitlines()\n",
    "for line in testo.splitlines():\n",
    "    check(line)"
   ]
  },
  {
   "cell_type": "code",
   "execution_count": 37,
   "metadata": {},
   "outputs": [
    {
     "data": {
      "text/plain": [
       "'//sr.wikipedia.org/wiki/,/ srpski'"
      ]
     },
     "execution_count": 37,
     "metadata": {},
     "output_type": "execute_result"
    }
   ],
   "source": [
    "b[33]"
   ]
  },
  {
   "cell_type": "code",
   "execution_count": 38,
   "metadata": {},
   "outputs": [
    {
     "data": {
      "text/plain": [
       "'//sh.wikipedia.org/wiki/,Srpskohrvatski /'"
      ]
     },
     "execution_count": 38,
     "metadata": {},
     "output_type": "execute_result"
    }
   ],
   "source": [
    "b[34]"
   ]
  },
  {
   "cell_type": "code",
   "execution_count": 48,
   "metadata": {},
   "outputs": [
    {
     "data": {
      "text/plain": [
       "['//sr.wikipedia.org/wiki/, / srpski',\n",
       " '//sh.wikipedia.org/wiki/,Srpskohrvatski / ']"
      ]
     },
     "execution_count": 48,
     "metadata": {},
     "output_type": "execute_result"
    }
   ],
   "source": [
    "string"
   ]
  },
  {
   "cell_type": "code",
   "execution_count": 51,
   "metadata": {},
   "outputs": [
    {
     "data": {
      "text/plain": [
       "6"
      ]
     },
     "execution_count": 51,
     "metadata": {},
     "output_type": "execute_result"
    }
   ],
   "source": [
    "def check(line,word):\n",
    "    word='foo'\n",
    "    line=r'foo bar (foo) bar foo-bar foo_bar foo\\'bar bar-foo bar, foo.'\n",
    "    p=re.compile(r'(\\W|\\b)('+word+r')(\\W|\\b)')\n",
    "    return len(p.findall(line))\n",
    "\n",
    "n=int(input())\n",
    "text=[]\n",
    "for i in range(n):\n",
    "    text.append(input())\n",
    "t=int(input())\n",
    "for i in range(t):\n",
    "    words.append(input())\n",
    "    \n",
    "for word in words:\n",
    "    i=0\n",
    "    for line in text:\n",
    "        i+=check(line,word)\n",
    "    print(i)"
   ]
  },
  {
   "cell_type": "code",
   "execution_count": 71,
   "metadata": {},
   "outputs": [
    {
     "name": "stdout",
     "output_type": "stream",
     "text": [
      "[]\n",
      "[]\n",
      "[]\n",
      "['mpotts@ngs.org']\n",
      "['mpotts@ngs.org']\n",
      "Aggiungo mpotts@ngs.org perché j= mpotts@ngs.org non c'è\n",
      "[]\n",
      "[]\n",
      "['jbmccorm@ngs.org']\n",
      "['jbmccorm@ngs.org']\n",
      "Aggiungo jbmccorm@ngs.org perché j= jbmccorm@ngs.org non c'è\n",
      "[]\n",
      "[]\n",
      "[]\n",
      "[]\n",
      "['ngsline@customersvc.com']\n",
      "['ngsline@customersvc.com']\n",
      "Aggiungo Send questions regarding your subscriptions. Check on delivery, expiration dates, or other concerns. Inquiries about National Geographic, National Geographic Kids, and Traveler can be sent to this email address. Customer service is also available online at ngsline@customersvc.com. perché j= ngsline@customersvc.com non c'è\n",
      "[]\n",
      "['ngsdigital@customersvc.com']\n",
      "['ngsdigital@customersvc.com']\n",
      "Aggiungo For questions about digital subscriptions to National Geographic magazine (iPad, Nook, Kindle, or Zinio) email us at ngsdigital@customersvc.com or call 1-800-895-2068. You can also read the digital FAQs online. perché j= ngsdigital@customersvc.com non c'è\n",
      "[]\n",
      "['givinginfo@ngs.org']\n",
      "['givinginfo@ngs.org']\n",
      "Aggiungo Please contact us at givinginfo@ngs.org or call +1 202 862 8638 with any questions regarding your donation, or how to make a donation in support of the Society's work in exploration, research, and education. Thank you for your support! perché j= givinginfo@ngs.org non c'è\n",
      "[]\n",
      "[]\n",
      "[]\n",
      "[]\n",
      "[]\n",
      "['askngs@nationalgeographic.com']\n",
      "['askngs@nationalgeographic.com']\n",
      "Aggiungo askngs@nationalgeographic.com and put \"Attn: Games\" in the subject line. perché j= askngs@nationalgeographic.com non c'è\n",
      "[]\n",
      "[]\n",
      "['genographic@ngs.org']\n",
      "['genographic@ngs.org']\n",
      "Aggiungo genographic@ngs.org perché j= genographic@ngs.org non c'è\n",
      "[]\n",
      "[]\n",
      "['genographicespanol@ngs.org']\n",
      "['genographicespanol@ngs.org']\n",
      "Aggiungo genographicespanol@ngs.org perché j= genographicespanol@ngs.org non c'è\n",
      "[]\n",
      "['apps@ngs.org']\n",
      "['apps@ngs.org']\n",
      "Aggiungo Email us with comments or support questions regarding our content for iPhone, iPad, Android, Windows Mobile 7, and more: apps@ngs.org. perché j= apps@ngs.org non c'è\n",
      "['ngsdigital@customersvc.com']\n",
      "['ngsdigital@customersvc.com']\n",
      "[]\n",
      "[]\n",
      "['feedback@natgeotv.com']\n",
      "['feedback@natgeotv.com']\n",
      "Aggiungo feedback@natgeotv.com perché j= feedback@natgeotv.com non c'è\n",
      "[]\n",
      "[]\n",
      "[]\n",
      "[]\n",
      "[]\n",
      "['ngsforum@nationalgeographic.com']\n",
      "['ngsforum@nationalgeographic.com']\n",
      "Aggiungo ngsforum@nationalgeographic.com perché j= ngsforum@nationalgeographic.com non c'è\n",
      "[]\n",
      "[]\n",
      "['maps@ngs.org']\n",
      "['maps@ngs.org']\n",
      "Aggiungo maps@ngs.org perché j= maps@ngs.org non c'è\n",
      "[]\n",
      "[]\n",
      "['stock@ngs.org']\n",
      "['stock@ngs.org']\n",
      "Aggiungo stock@ngs.org perché j= stock@ngs.org non c'è\n",
      "[]\n",
      "[]\n",
      "['ngassignment@ngs.org']\n",
      "['ngassignment@ngs.org']\n",
      "Aggiungo ngassignment@ngs.org perché j= ngassignment@ngs.org non c'è\n",
      "[]\n",
      "[]\n",
      "[]\n",
      "[]\n",
      "['newsdesk@nationalgeographic.com']\n",
      "['newsdesk@nationalgeographic.com']\n",
      "Aggiungo newsdesk@nationalgeographic.com perché j= newsdesk@nationalgeographic.com non c'è\n",
      "[]\n",
      "[]\n",
      "['pressroom@ngs.org']\n",
      "['pressroom@ngs.org']\n",
      "Aggiungo pressroom@ngs.org perché j= pressroom@ngs.org non c'è\n",
      "[]\n",
      "[]\n",
      "['speakers@ngs.org']\n",
      "['speakers@ngs.org']\n",
      "Aggiungo speakers@ngs.org perché j= speakers@ngs.org non c'è\n",
      "[]\n",
      "[]\n",
      "['topo@ngs.org']\n",
      "['topo@ngs.org']\n",
      "Aggiungo topo@ngs.org perché j= topo@ngs.org non c'è\n",
      "[]\n",
      "[]\n",
      "['Traveler@ngs.org']\n",
      "['Traveler@ngs.org']\n",
      "Aggiungo Traveler@ngs.org perché j= Traveler@ngs.org non c'è\n",
      "[]\n",
      "[]\n",
      "[]\n",
      "[]\n",
      "[]\n",
      "['askngs@nationalgeographic.com']\n",
      "['askngs@nationalgeographic.com']\n",
      "Traveler@ngs.org;apps@ngs.org;askngs@nationalgeographic.com;feedback@natgeotv.com;genographic@ngs.org;genographicespanol@ngs.org;givinginfo@ngs.org;jbmccorm@ngs.org;maps@ngs.org;mpotts@ngs.org;newsdesk@nationalgeographic.com;ngassignment@ngs.org;ngsdigital@customersvc.com;ngsforum@nationalgeographic.com;ngsline@customersvc.com;pressroom@ngs.org;speakers@ngs.org;stock@ngs.org;topo@ngs.org\n"
     ]
    }
   ],
   "source": [
    "def check_unicity(a):\n",
    "    for i in a:\n",
    "        b=a.copy()\n",
    "        b.remove(i)\n",
    "        if i in b:\n",
    "            return check_unicity(b)\n",
    "    return a\n",
    "def check(line):\n",
    "    a=re.findall('[a-zA-Z][a-zA-Z0-9_\\-.]+[@][a-zA-Z]+[.][a-z]{1,3}',line)\n",
    "    a=check_unicity(a)\n",
    "    print(a)\n",
    "    return a\n",
    "\n",
    "\"\"\"n=int(input())\n",
    "text=[]\n",
    "for i in range(n):\n",
    "    text.append(input())\"\"\"\n",
    "texto='''71\n",
    "Adventure\n",
    "Send a letter to the editor about the content of the Adventure website.\n",
    "mpotts@ngs.org\n",
    "Advertising\n",
    "Why not sponsor an online feature?\n",
    "jbmccorm@ngs.org\n",
    "The Complete National Geographic\n",
    "Use this help form to contact us with comments or support questions regarding The Complete National Geographic on DVD or hard drive.\n",
    "CNG Help Form\n",
    "Customer Service: Magazine Subscriptions\n",
    "Send questions regarding your subscriptions. Check on delivery, expiration dates, or other concerns. Inquiries about National Geographic, National Geographic Kids, and Traveler can be sent to this email address. Customer service is also available online at ngsline@customersvc.com.\n",
    "Digital Magazine Subscriptions\n",
    "For questions about digital subscriptions to National Geographic magazine (iPad, Nook, Kindle, or Zinio) email us at ngsdigital@customersvc.com or call 1-800-895-2068. You can also read the digital FAQs online.\n",
    "Donating to National Geographic\n",
    "Please contact us at givinginfo@ngs.org or call +1 202 862 8638 with any questions regarding your donation, or how to make a donation in support of the Society's work in exploration, research, and education. Thank you for your support!\n",
    "Frequently Asked Questions\n",
    "Find answers to your questions here.\n",
    "http://www.nationalgeographic.com/faq/\n",
    "Games\n",
    "For questions about downloadable games and Plan It Green Live, please write to:\n",
    "askngs@nationalgeographic.com and put \"Attn: Games\" in the subject line.\n",
    "Genographic Project\n",
    "Send us your questions regarding the Genographic Project.\n",
    "genographic@ngs.org\n",
    "Genographic Project en espaï¿½ï¿½ol\n",
    "Envienos en espaï¿½ï¿½ol sus preguntas sobre el Proyecto Genographic.\n",
    "genographicespanol@ngs.org\n",
    "Mobile Applications and More\n",
    "Email us with comments or support questions regarding our content for iPhone, iPad, Android, Windows Mobile 7, and more: apps@ngs.org.\n",
    "For magazine app and digital subscription queries email us at ngsdigital@customersvc.com or call 1-800-895-2068.\n",
    "National Geographic Channel\n",
    "Send comments or questions regarding our television programming.\n",
    "feedback@natgeotv.com\n",
    "National Geographic Expeditions\n",
    "For more information or to reserve your space, call toll-free 1-888-966-8687, or reserve online at nationalgeographicexpeditions.com.\n",
    "For email inquiries use this form.\n",
    "National Geographic Magazine\n",
    "Send a letter to the Editor about the content of National Geographic magazine. Letters will be considered for the monthly Forum column.\n",
    "ngsforum@nationalgeographic.com\n",
    "National Geographic Maps\n",
    "Contact us with questions about our maps.\n",
    "maps@ngs.org\n",
    "Photography: Stock Photography\n",
    "National Geographic Stock's photography collection offers the best in rights managed and royalty free wildlife, travel, landscape and lifestyle photographs available for professional editorial and commercial licensing.\n",
    "stock@ngs.org\n",
    "Photography: Commercial Assignments\n",
    "National Geographic Assignment represents international commercial photographers specializing in lifestyle, adventure, travel, and landscape photography. Online portfolios are available.\n",
    "ngassignment@ngs.org\n",
    "Photography: Prints\n",
    "You can order beautiful National Geographic prints for your home or as a great gift. Browse through our collection.\n",
    "News\n",
    "Send comments, questions or concerns regarding the National Geographic News site.\n",
    "newsdesk@nationalgeographic.com\n",
    "Public Relations\n",
    "Send press inquiries here.\n",
    "pressroom@ngs.org\n",
    "Speakers Bureau\n",
    "Send inquiries about having a National Geographic photographer, adventurer, explorer, or scientist speak at your next event.\n",
    "speakers@ngs.org\n",
    "TOPO! Digital Maps\n",
    "Send us your product and technical support quesions.\n",
    "topo@ngs.org\n",
    "Traveler Magazine\n",
    "Send a letter about Traveler magazine.\n",
    "Traveler@ngs.org\n",
    "Your Shot & Your Shot Puzzles\n",
    "Help Form\n",
    "Frequently Asked Questions\n",
    "Miscellaneous\n",
    "Not sure where to send your question? Weï¿½ï¿½ï¿½ll pass it to the proper department. Please keep in mind that the high volume of mail does not allow us to send everyone a personal answer.\n",
    "askngs@nationalgeographic.com'''\n",
    "texto=texto.splitlines()\n",
    "a=[]\n",
    "for line in texto:\n",
    "    if len(check(line))!=0:\n",
    "        for j in check(line):\n",
    "            if j not in a:\n",
    "                print('Aggiungo',line,'perché j=',j,'non c\\'è')\n",
    "                a.append(j)\n",
    "a.sort()\n",
    "stringa=''\n",
    "for i in a:\n",
    "        if stringa!='':\n",
    "            stringa+=';'\n",
    "        stringa+=i\n",
    "print(stringa)"
   ]
  },
  {
   "cell_type": "code",
   "execution_count": 65,
   "metadata": {},
   "outputs": [
    {
     "data": {
      "text/plain": [
       "[1, 2, 3, 4, 6]"
      ]
     },
     "execution_count": 65,
     "metadata": {},
     "output_type": "execute_result"
    }
   ],
   "source": [
    "def check_unicity(a):\n",
    "    for i in a:\n",
    "        b=a.copy()\n",
    "        b.remove(i)\n",
    "        if i in b:\n",
    "            return check_unicity(b)\n",
    "    return a"
   ]
  },
  {
   "cell_type": "code",
   "execution_count": null,
   "metadata": {},
   "outputs": [],
   "source": []
  }
 ],
 "metadata": {
  "kernelspec": {
   "display_name": "Python 3",
   "language": "python",
   "name": "python3"
  },
  "language_info": {
   "codemirror_mode": {
    "name": "ipython",
    "version": 3
   },
   "file_extension": ".py",
   "mimetype": "text/x-python",
   "name": "python",
   "nbconvert_exporter": "python",
   "pygments_lexer": "ipython3",
   "version": "3.7.1"
  }
 },
 "nbformat": 4,
 "nbformat_minor": 2
}
