{
 "cells": [
  {
   "cell_type": "code",
   "execution_count": 1,
   "metadata": {},
   "outputs": [],
   "source": [
    " def giustify_destra(s): \n",
    "    l=list(s) \n",
    "    for i in range(70): \n",
    "        l.insert(0,' ') \n",
    "        s=''.join(l) \n",
    "    print(s) \n"
   ]
  },
  {
   "cell_type": "code",
   "execution_count": 4,
   "metadata": {},
   "outputs": [],
   "source": [
    "#3.2"
   ]
  },
  {
   "cell_type": "code",
   "execution_count": 3,
   "metadata": {},
   "outputs": [
    {
     "name": "stdout",
     "output_type": "stream",
     "text": [
      "spam\n",
      "spam\n"
     ]
    }
   ],
   "source": [
    "#primo punto\n",
    "def fai2volte(f):\n",
    "    f()\n",
    "    f()\n",
    "    \n",
    "def stampa_spam():\n",
    "    print('spam')\n",
    "fai2volte(stampa_spam)"
   ]
  },
  {
   "cell_type": "code",
   "execution_count": 5,
   "metadata": {},
   "outputs": [
    {
     "name": "stdout",
     "output_type": "stream",
     "text": [
      "scemo\n",
      "scemo\n"
     ]
    }
   ],
   "source": [
    "#secondo punto\n",
    "def fai2volte(f,val):\n",
    "    f(val)\n",
    "    f(val)\n",
    "    \n",
    "def stampa_spam(spam):\n",
    "    print(spam)\n",
    "    \n",
    "fai2volte(stampa_spam,'scemo')"
   ]
  },
  {
   "cell_type": "code",
   "execution_count": 6,
   "metadata": {},
   "outputs": [
    {
     "name": "stdout",
     "output_type": "stream",
     "text": [
      "spam\n",
      "spam\n",
      "spam\n",
      "spam\n"
     ]
    }
   ],
   "source": [
    "#ultimo punto\n",
    "def fai_quattro(f,val):\n",
    "    for i in range(4):\n",
    "        f(val)\n",
    "fai_quattro(stampa_spam,'spam')"
   ]
  },
  {
   "cell_type": "code",
   "execution_count": 7,
   "metadata": {},
   "outputs": [],
   "source": [
    "#3.3"
   ]
  },
  {
   "cell_type": "code",
   "execution_count": 12,
   "metadata": {},
   "outputs": [
    {
     "name": "stdout",
     "output_type": "stream",
     "text": [
      "+ - - - - + - - - - + \n",
      "|         |         | \n",
      "|         |         | \n",
      "|         |         | \n",
      "|         |         | \n",
      "+ - - - - + - - - - + \n",
      "|         |         | \n",
      "|         |         | \n",
      "|         |         | \n",
      "|         |         | \n",
      "+ - - - - + - - - - + \n"
     ]
    }
   ],
   "source": [
    "for i in range(11):\n",
    "    for j in range(11):\n",
    "        if i==0 or i==5 or i==10:\n",
    "            if j==0 or j==5 or j==10:\n",
    "                print('+',end=' ')\n",
    "            else:\n",
    "                print('-',end=' ')\n",
    "        else:\n",
    "            if j==0 or j==5 or j==10:\n",
    "                print('|',end=' ')\n",
    "            else:\n",
    "                print(' ',end=' ')\n",
    "    print('\\n',end='')"
   ]
  },
  {
   "cell_type": "code",
   "execution_count": 13,
   "metadata": {},
   "outputs": [],
   "source": [
    "#secondo punto"
   ]
  },
  {
   "cell_type": "code",
   "execution_count": 14,
   "metadata": {},
   "outputs": [
    {
     "name": "stdout",
     "output_type": "stream",
     "text": [
      "+ - - - - + - - - - + - - - - + \n",
      "|         |         |         | \n",
      "|         |         |         | \n",
      "|         |         |         | \n",
      "|         |         |         | \n",
      "+ - - - - + - - - - + - - - - + \n",
      "|         |         |         | \n",
      "|         |         |         | \n",
      "|         |         |         | \n",
      "|         |         |         | \n",
      "+ - - - - + - - - - + - - - - + \n",
      "|         |         |         | \n",
      "|         |         |         | \n",
      "|         |         |         | \n",
      "|         |         |         | \n",
      "+ - - - - + - - - - + - - - - + \n"
     ]
    }
   ],
   "source": [
    "for i in range(16):\n",
    "    for j in range(16):\n",
    "        if i==0 or i==5 or i==10 or i==15:\n",
    "            if j==0 or j==5 or j==10 or j==15:\n",
    "                print('+',end=' ')\n",
    "            else:\n",
    "                print('-',end=' ')\n",
    "        else:\n",
    "            if j==0 or j==5 or j==10 or j==15:\n",
    "                print('|',end=' ')\n",
    "            else:\n",
    "                print(' ',end=' ')\n",
    "    print('\\n',end='')"
   ]
  },
  {
   "cell_type": "code",
   "execution_count": null,
   "metadata": {},
   "outputs": [],
   "source": []
  }
 ],
 "metadata": {
  "kernelspec": {
   "display_name": "Python 3",
   "language": "python",
   "name": "python3"
  },
  "language_info": {
   "codemirror_mode": {
    "name": "ipython",
    "version": 3
   },
   "file_extension": ".py",
   "mimetype": "text/x-python",
   "name": "python",
   "nbconvert_exporter": "python",
   "pygments_lexer": "ipython3",
   "version": "3.7.1"
  }
 },
 "nbformat": 4,
 "nbformat_minor": 2
}
